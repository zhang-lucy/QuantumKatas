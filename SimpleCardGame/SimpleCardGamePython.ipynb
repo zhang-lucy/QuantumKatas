{
 "cells": [
  {
   "cell_type": "code",
   "execution_count": 1,
   "metadata": {},
   "outputs": [
    {
     "name": "stdout",
     "output_type": "stream",
     "text": [
      "Preparing Q# environment...\n",
      ".."
     ]
    }
   ],
   "source": [
    "import qsharp\n",
    "from random import random"
   ]
  },
  {
   "cell_type": "code",
   "execution_count": 12,
   "metadata": {},
   "outputs": [
    {
     "data": {
      "text/plain": [
       "1"
      ]
     },
     "execution_count": 12,
     "metadata": {},
     "output_type": "execute_result"
    }
   ],
   "source": [
    "from SimpleCardGame import PlayAndMeasure\n",
    "PlayAndMeasure.simulate(state=False, gate=\"X\")"
   ]
  },
  {
   "cell_type": "code",
   "execution_count": 3,
   "metadata": {},
   "outputs": [],
   "source": [
    "class Card:\n",
    "    def __init__(self, name):\n",
    "        self.name = name\n",
    "        \n",
    "    def __str__(self):\n",
    "        return self.name"
   ]
  },
  {
   "cell_type": "code",
   "execution_count": 11,
   "metadata": {},
   "outputs": [],
   "source": [
    "class Game:\n",
    "    def __init__(self, card_frequencies, cards_per_player, player_names):\n",
    "        self.card_frequencies = card_frequencies\n",
    "        self.cards_per_player = cards_per_player    \n",
    "        self.player_names = player_names\n",
    "\n",
    "        self.cards = []\n",
    "        self.players = []\n",
    "        self.state = False\n",
    "        self.player_turn = 0\n",
    "\n",
    "        self.initialize()\n",
    "\n",
    "    def initialize(self):\n",
    "        self.initialize_cards()\n",
    "        self.initialize_players()\n",
    "        self.deal_cards()\n",
    "        \n",
    "    def initialize_players(self):\n",
    "        for name in self.player_names:\n",
    "            self.players.append(Player(name))\n",
    "        \n",
    "    def initialize_cards(self):\n",
    "        for card_name in self.card_frequencies:\n",
    "            freq = self.card_frequencies[card_name]\n",
    "            for i in range(freq):\n",
    "                self.cards.append(Card(card_name))\n",
    "    \n",
    "    def deal_cards(self):\n",
    "        for i in range(self.cards_per_player):\n",
    "            for j in range(len(self.players)):\n",
    "                player = self.players[j]\n",
    "                idx = int(round(random() * len(self.cards)))\n",
    "                player.cards.append(self.cards[idx])\n",
    "                \n",
    "    def deal_card(self, idx):\n",
    "        pass\n",
    "    \n",
    "    def update_player_turn(self):\n",
    "        if self.player_turn == len(self.players) - 1:\n",
    "            self.player_turn = 0\n",
    "        else:\n",
    "            self.player_turn += 1\n",
    "    \n",
    "    def prompt_player_card(self):\n",
    "        card = self.players[self.player_turn].prompt_card()\n",
    "        return card\n",
    "    \n",
    "    def get_new_state(self, card):\n",
    "        return PlayAndMeasure.simulate(state=self.state, gate=card.name)\n",
    "                \n",
    "    def play():\n",
    "        card = self.prompt_player_card()\n",
    "        \n",
    "        # qsharp script\n",
    "        self.update_state(card)\n",
    "        self.update_scores()\n",
    "        \n",
    "        if check_end_game():\n",
    "            end_game()\n",
    "            return\n",
    "        \n",
    "        self.update_player_turn()\n",
    "                \n",
    "    def check_end_game(self):\n",
    "        # TODO\n",
    "        return len(self.cards) == 0\n",
    "            \n",
    "\n",
    "    \n",
    "    \n",
    "        "
   ]
  },
  {
   "cell_type": "code",
   "execution_count": 5,
   "metadata": {},
   "outputs": [],
   "source": [
    "class Player:\n",
    "    def __init__(self, name):\n",
    "        self.name = name\n",
    "        self.points = 0\n",
    "        self.cards = []\n",
    "        \n",
    "    def card_is_valid(self, card_selected):\n",
    "        for card in self.cards:\n",
    "            if card.name.lower() == card_selected.lower():\n",
    "                return True\n",
    "        return False\n",
    "        \n",
    "    def prompt_card(self):\n",
    "        ## TODO\n",
    "        card = input(\"What card would you like to play?\\nYour cards: {}\".format([str(card) for card in self.cards]))\n",
    "        while(not self.card_is_valid(card)):\n",
    "            card = input(\"Invalid selection. Please try again: \") ## TODO: give better instructions\n",
    "        return card\n",
    "        \n",
    "        \n",
    "    def __str__(self):\n",
    "        return \"{}\\nPoints: {}\\nCards in Hand:{}\".format(self.name, self.points, [str(card) for card in self.cards])\n",
    "\n",
    "    "
   ]
  },
  {
   "cell_type": "code",
   "execution_count": 6,
   "metadata": {},
   "outputs": [
    {
     "name": "stdout",
     "output_type": "stream",
     "text": [
      "['X', 'X', 'X', 'W', 'W', 'W', 'Y', 'Y', 'Y', 'Z', 'Z', 'Z']\n",
      "arjun\n",
      "Points: 0\n",
      "Cards in Hand:['Y', 'Z', 'Z', 'X']\n",
      "lucy\n",
      "Points: 0\n",
      "Cards in Hand:['Z', 'W', 'W', 'Z']\n",
      "What card would you like to play?\n",
      "Your cards: ['Y', 'Z', 'Z', 'X']X\n"
     ]
    },
    {
     "data": {
      "text/plain": [
       "'X'"
      ]
     },
     "execution_count": 6,
     "metadata": {},
     "output_type": "execute_result"
    }
   ],
   "source": [
    "# Tests\n",
    "g = Game(card_frequencies={\"X\": 3, \"W\": 3, \"Y\": 3, \"Z\": 3},\n",
    "        cards_per_player=4,\n",
    "        player_names=[\"arjun\",\"lucy\"])\n",
    "print([str(card) for card in g.cards])\n",
    "print(g.players[0])\n",
    "print(g.players[1])\n",
    "g.prompt_player_card()\n"
   ]
  },
  {
   "cell_type": "code",
   "execution_count": null,
   "metadata": {},
   "outputs": [],
   "source": []
  },
  {
   "cell_type": "code",
   "execution_count": null,
   "metadata": {},
   "outputs": [],
   "source": []
  }
 ],
 "metadata": {
  "kernelspec": {
   "display_name": "Python 3",
   "language": "python",
   "name": "python3"
  },
  "language_info": {
   "codemirror_mode": {
    "name": "ipython",
    "version": 3
   },
   "file_extension": ".py",
   "mimetype": "text/x-python",
   "name": "python",
   "nbconvert_exporter": "python",
   "pygments_lexer": "ipython3",
   "version": "3.7.7"
  }
 },
 "nbformat": 4,
 "nbformat_minor": 4
}
